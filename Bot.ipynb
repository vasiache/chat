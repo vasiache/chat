{
 "cells": [
  {
   "cell_type": "code",
   "execution_count": 1,
   "metadata": {},
   "outputs": [],
   "source": [
    "import openai\n",
    "from aiogram import Bot, types\n",
    "from aiogram.dispatcher import Dispatcher\n",
    "from aiogram.utils import executor"
   ]
  },
  {
   "cell_type": "code",
   "execution_count": 2,
   "metadata": {},
   "outputs": [],
   "source": [
    "open_ai_token = \" \"\n",
    "tg_token=\" \""
   ]
  },
  {
   "cell_type": "code",
   "execution_count": 3,
   "metadata": {},
   "outputs": [],
   "source": [
    "openai.api_key=open_ai_token\n",
    "bot=Bot(tg_token)\n",
    "dp=Dispatcher(bot)"
   ]
  },
  {
   "cell_type": "code",
   "execution_count": 6,
   "metadata": {},
   "outputs": [],
   "source": [
    "@dp.message_handler()\n",
    "async def send(message : types.Message):\n",
    "    # response = openai.Completion.create(\n",
    "    # model=\"text-davinci-003\",\n",
    "    # prompt=\"Convert this text to a programmatic command:\\n\\nExample: Ask Constance if we need some bread\\nOutput: send-msg `find constance` Do we need some bread?\\n\\nReach out to the ski store and figure out if I can get my skis fixed before I leave on Thursday\",\n",
    "    # temperature=0,\n",
    "    # max_tokens=100,\n",
    "    # top_p=1.0,\n",
    "    # frequency_penalty=0.2,\n",
    "    # presence_penalty=0.0,\n",
    "    # stop=[\"\\n\"])\n",
    "    # await message.answer(response['choices'][0]['test'])\n",
    "    await message.answer(\"sss\")\n"
   ]
  },
  {
   "cell_type": "code",
   "execution_count": null,
   "metadata": {},
   "outputs": [],
   "source": [
    "executor.start_polling(dp, skip_updates=True)"
   ]
  },
  {
   "cell_type": "code",
   "execution_count": null,
   "metadata": {},
   "outputs": [],
   "source": []
  }
 ],
 "metadata": {
  "kernelspec": {
   "display_name": ".venvTorch",
   "language": "python",
   "name": "python3"
  },
  "language_info": {
   "codemirror_mode": {
    "name": "ipython",
    "version": 3
   },
   "file_extension": ".py",
   "mimetype": "text/x-python",
   "name": "python",
   "nbconvert_exporter": "python",
   "pygments_lexer": "ipython3",
   "version": "3.8.10"
  },
  "orig_nbformat": 4,
  "vscode": {
   "interpreter": {
    "hash": "54405e3b80a0470a0a6a6417e844dc60f4262de3ef785371b276dbe20f0236a6"
   }
  }
 },
 "nbformat": 4,
 "nbformat_minor": 2
}
